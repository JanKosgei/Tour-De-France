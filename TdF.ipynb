{
 "cells": [
  {
   "cell_type": "markdown",
   "metadata": {},
   "source": [
    "Importing libraries"
   ]
  },
  {
   "cell_type": "code",
   "execution_count": 7,
   "metadata": {},
   "outputs": [],
   "source": [
    "import pandas as pd\n",
    "import pandas as pd\n",
    "import matplotlib.pyplot as plt\n"
   ]
  },
  {
   "attachments": {},
   "cell_type": "markdown",
   "metadata": {},
   "source": [
    "Read the data from the CSV file named TdF & viewing it"
   ]
  },
  {
   "cell_type": "code",
   "execution_count": 2,
   "metadata": {},
   "outputs": [
    {
     "data": {
      "text/html": [
       "<div>\n",
       "<style scoped>\n",
       "    .dataframe tbody tr th:only-of-type {\n",
       "        vertical-align: middle;\n",
       "    }\n",
       "\n",
       "    .dataframe tbody tr th {\n",
       "        vertical-align: top;\n",
       "    }\n",
       "\n",
       "    .dataframe thead th {\n",
       "        text-align: right;\n",
       "    }\n",
       "</style>\n",
       "<table border=\"1\" class=\"dataframe\">\n",
       "  <thead>\n",
       "    <tr style=\"text-align: right;\">\n",
       "      <th></th>\n",
       "      <th>edition</th>\n",
       "      <th>start_date</th>\n",
       "      <th>winner_name</th>\n",
       "      <th>winner_team</th>\n",
       "      <th>distance</th>\n",
       "      <th>time_overall</th>\n",
       "      <th>time_margin</th>\n",
       "      <th>stage_wins</th>\n",
       "      <th>stages_led</th>\n",
       "      <th>height</th>\n",
       "      <th>weight</th>\n",
       "      <th>age</th>\n",
       "      <th>born</th>\n",
       "      <th>died</th>\n",
       "      <th>full_name</th>\n",
       "      <th>nickname</th>\n",
       "      <th>birth_town</th>\n",
       "      <th>birth_country</th>\n",
       "      <th>nationality</th>\n",
       "    </tr>\n",
       "  </thead>\n",
       "  <tbody>\n",
       "    <tr>\n",
       "      <th>0</th>\n",
       "      <td>1</td>\n",
       "      <td>1903-07-01</td>\n",
       "      <td>Maurice Garin</td>\n",
       "      <td>La Française</td>\n",
       "      <td>2428.0</td>\n",
       "      <td>94.553889</td>\n",
       "      <td>2.989167</td>\n",
       "      <td>3</td>\n",
       "      <td>6</td>\n",
       "      <td>1.62</td>\n",
       "      <td>60.0</td>\n",
       "      <td>32</td>\n",
       "      <td>1871-03-03</td>\n",
       "      <td>1957-02-19</td>\n",
       "      <td>NaN</td>\n",
       "      <td>The Little Chimney-sweep</td>\n",
       "      <td>Arvier</td>\n",
       "      <td>Italy</td>\n",
       "      <td>France</td>\n",
       "    </tr>\n",
       "    <tr>\n",
       "      <th>1</th>\n",
       "      <td>2</td>\n",
       "      <td>1904-07-02</td>\n",
       "      <td>Henri Cornet</td>\n",
       "      <td>Conte</td>\n",
       "      <td>2428.0</td>\n",
       "      <td>96.098611</td>\n",
       "      <td>2.270556</td>\n",
       "      <td>1</td>\n",
       "      <td>3</td>\n",
       "      <td>NaN</td>\n",
       "      <td>NaN</td>\n",
       "      <td>19</td>\n",
       "      <td>1884-08-04</td>\n",
       "      <td>1941-03-18</td>\n",
       "      <td>NaN</td>\n",
       "      <td>Le rigolo (The joker)</td>\n",
       "      <td>Desvres</td>\n",
       "      <td>France</td>\n",
       "      <td>France</td>\n",
       "    </tr>\n",
       "    <tr>\n",
       "      <th>2</th>\n",
       "      <td>3</td>\n",
       "      <td>1905-07-09</td>\n",
       "      <td>Louis Trousselier</td>\n",
       "      <td>Peugeot–Wolber</td>\n",
       "      <td>2994.0</td>\n",
       "      <td>NaN</td>\n",
       "      <td>NaN</td>\n",
       "      <td>5</td>\n",
       "      <td>10</td>\n",
       "      <td>NaN</td>\n",
       "      <td>NaN</td>\n",
       "      <td>24</td>\n",
       "      <td>1881-06-29</td>\n",
       "      <td>1939-04-24</td>\n",
       "      <td>NaN</td>\n",
       "      <td>Levaloy / Trou-trou</td>\n",
       "      <td>Paris</td>\n",
       "      <td>France</td>\n",
       "      <td>France</td>\n",
       "    </tr>\n",
       "    <tr>\n",
       "      <th>3</th>\n",
       "      <td>4</td>\n",
       "      <td>1906-07-04</td>\n",
       "      <td>René Pottier</td>\n",
       "      <td>Peugeot–Wolber</td>\n",
       "      <td>4637.0</td>\n",
       "      <td>NaN</td>\n",
       "      <td>NaN</td>\n",
       "      <td>5</td>\n",
       "      <td>12</td>\n",
       "      <td>NaN</td>\n",
       "      <td>NaN</td>\n",
       "      <td>27</td>\n",
       "      <td>1879-06-05</td>\n",
       "      <td>1907-01-25</td>\n",
       "      <td>NaN</td>\n",
       "      <td>NaN</td>\n",
       "      <td>Moret-sur-Loing</td>\n",
       "      <td>France</td>\n",
       "      <td>France</td>\n",
       "    </tr>\n",
       "    <tr>\n",
       "      <th>4</th>\n",
       "      <td>5</td>\n",
       "      <td>1907-07-08</td>\n",
       "      <td>Lucien Petit-Breton</td>\n",
       "      <td>Peugeot–Wolber</td>\n",
       "      <td>4488.0</td>\n",
       "      <td>NaN</td>\n",
       "      <td>NaN</td>\n",
       "      <td>2</td>\n",
       "      <td>5</td>\n",
       "      <td>NaN</td>\n",
       "      <td>NaN</td>\n",
       "      <td>24</td>\n",
       "      <td>1882-10-18</td>\n",
       "      <td>1917-12-20</td>\n",
       "      <td>Lucien Georges Mazan</td>\n",
       "      <td>Lucien Petit-Breton</td>\n",
       "      <td>Plessé</td>\n",
       "      <td>France</td>\n",
       "      <td>France</td>\n",
       "    </tr>\n",
       "    <tr>\n",
       "      <th>...</th>\n",
       "      <td>...</td>\n",
       "      <td>...</td>\n",
       "      <td>...</td>\n",
       "      <td>...</td>\n",
       "      <td>...</td>\n",
       "      <td>...</td>\n",
       "      <td>...</td>\n",
       "      <td>...</td>\n",
       "      <td>...</td>\n",
       "      <td>...</td>\n",
       "      <td>...</td>\n",
       "      <td>...</td>\n",
       "      <td>...</td>\n",
       "      <td>...</td>\n",
       "      <td>...</td>\n",
       "      <td>...</td>\n",
       "      <td>...</td>\n",
       "      <td>...</td>\n",
       "      <td>...</td>\n",
       "    </tr>\n",
       "    <tr>\n",
       "      <th>101</th>\n",
       "      <td>102</td>\n",
       "      <td>2015-07-04</td>\n",
       "      <td>Chris Froome</td>\n",
       "      <td>Team Sky</td>\n",
       "      <td>3360.3</td>\n",
       "      <td>84.770556</td>\n",
       "      <td>0.016944</td>\n",
       "      <td>1</td>\n",
       "      <td>16</td>\n",
       "      <td>1.86</td>\n",
       "      <td>69.0</td>\n",
       "      <td>30</td>\n",
       "      <td>1985-05-20</td>\n",
       "      <td>NaN</td>\n",
       "      <td>Christopher Clive Froome</td>\n",
       "      <td>Froomey</td>\n",
       "      <td>Nairobi</td>\n",
       "      <td>Kenya</td>\n",
       "      <td>Great Britain</td>\n",
       "    </tr>\n",
       "    <tr>\n",
       "      <th>102</th>\n",
       "      <td>103</td>\n",
       "      <td>2016-07-02</td>\n",
       "      <td>Chris Froome</td>\n",
       "      <td>Team Sky</td>\n",
       "      <td>3529.0</td>\n",
       "      <td>89.080000</td>\n",
       "      <td>0.067778</td>\n",
       "      <td>2</td>\n",
       "      <td>14</td>\n",
       "      <td>1.86</td>\n",
       "      <td>69.0</td>\n",
       "      <td>31</td>\n",
       "      <td>1985-05-20</td>\n",
       "      <td>NaN</td>\n",
       "      <td>Christopher Clive Froome</td>\n",
       "      <td>Froomey</td>\n",
       "      <td>Nairobi</td>\n",
       "      <td>Kenya</td>\n",
       "      <td>Great Britain</td>\n",
       "    </tr>\n",
       "    <tr>\n",
       "      <th>103</th>\n",
       "      <td>104</td>\n",
       "      <td>2017-07-01</td>\n",
       "      <td>Chris Froome</td>\n",
       "      <td>Team Sky</td>\n",
       "      <td>3540.0</td>\n",
       "      <td>86.348611</td>\n",
       "      <td>0.015000</td>\n",
       "      <td>0</td>\n",
       "      <td>15</td>\n",
       "      <td>1.86</td>\n",
       "      <td>69.0</td>\n",
       "      <td>32</td>\n",
       "      <td>1985-05-20</td>\n",
       "      <td>NaN</td>\n",
       "      <td>Christopher Clive Froome</td>\n",
       "      <td>Froomey</td>\n",
       "      <td>Nairobi</td>\n",
       "      <td>Kenya</td>\n",
       "      <td>Great Britain</td>\n",
       "    </tr>\n",
       "    <tr>\n",
       "      <th>104</th>\n",
       "      <td>105</td>\n",
       "      <td>2018-07-07</td>\n",
       "      <td>Geraint Thomas</td>\n",
       "      <td>Team Sky</td>\n",
       "      <td>3349.0</td>\n",
       "      <td>83.286944</td>\n",
       "      <td>0.016944</td>\n",
       "      <td>2</td>\n",
       "      <td>11</td>\n",
       "      <td>1.83</td>\n",
       "      <td>71.0</td>\n",
       "      <td>32</td>\n",
       "      <td>1986-05-25</td>\n",
       "      <td>NaN</td>\n",
       "      <td>Geraint Howell Thomas</td>\n",
       "      <td>G</td>\n",
       "      <td>Cardiff</td>\n",
       "      <td>Wales</td>\n",
       "      <td>Great Britain</td>\n",
       "    </tr>\n",
       "    <tr>\n",
       "      <th>105</th>\n",
       "      <td>106</td>\n",
       "      <td>2019-07-06</td>\n",
       "      <td>Egan Bernal</td>\n",
       "      <td>Team Ineos</td>\n",
       "      <td>3349.0</td>\n",
       "      <td>82.950000</td>\n",
       "      <td>0.016944</td>\n",
       "      <td>0</td>\n",
       "      <td>2</td>\n",
       "      <td>1.75</td>\n",
       "      <td>60.0</td>\n",
       "      <td>22</td>\n",
       "      <td>1997-01-13</td>\n",
       "      <td>NaN</td>\n",
       "      <td>Egan Arley Bernal Gómez</td>\n",
       "      <td>NaN</td>\n",
       "      <td>Bogotá</td>\n",
       "      <td>Columbia</td>\n",
       "      <td>Colombia</td>\n",
       "    </tr>\n",
       "  </tbody>\n",
       "</table>\n",
       "<p>106 rows × 19 columns</p>\n",
       "</div>"
      ],
      "text/plain": [
       "     edition  start_date          winner_name     winner_team  distance  \\\n",
       "0          1  1903-07-01        Maurice Garin    La Française    2428.0   \n",
       "1          2  1904-07-02         Henri Cornet           Conte    2428.0   \n",
       "2          3  1905-07-09    Louis Trousselier  Peugeot–Wolber    2994.0   \n",
       "3          4  1906-07-04         René Pottier  Peugeot–Wolber    4637.0   \n",
       "4          5  1907-07-08  Lucien Petit-Breton  Peugeot–Wolber    4488.0   \n",
       "..       ...         ...                  ...             ...       ...   \n",
       "101      102  2015-07-04         Chris Froome        Team Sky    3360.3   \n",
       "102      103  2016-07-02         Chris Froome        Team Sky    3529.0   \n",
       "103      104  2017-07-01         Chris Froome        Team Sky    3540.0   \n",
       "104      105  2018-07-07       Geraint Thomas        Team Sky    3349.0   \n",
       "105      106  2019-07-06          Egan Bernal      Team Ineos    3349.0   \n",
       "\n",
       "     time_overall  time_margin  stage_wins  stages_led  height  weight  age  \\\n",
       "0       94.553889     2.989167           3           6    1.62    60.0   32   \n",
       "1       96.098611     2.270556           1           3     NaN     NaN   19   \n",
       "2             NaN          NaN           5          10     NaN     NaN   24   \n",
       "3             NaN          NaN           5          12     NaN     NaN   27   \n",
       "4             NaN          NaN           2           5     NaN     NaN   24   \n",
       "..            ...          ...         ...         ...     ...     ...  ...   \n",
       "101     84.770556     0.016944           1          16    1.86    69.0   30   \n",
       "102     89.080000     0.067778           2          14    1.86    69.0   31   \n",
       "103     86.348611     0.015000           0          15    1.86    69.0   32   \n",
       "104     83.286944     0.016944           2          11    1.83    71.0   32   \n",
       "105     82.950000     0.016944           0           2    1.75    60.0   22   \n",
       "\n",
       "           born        died                 full_name  \\\n",
       "0    1871-03-03  1957-02-19                       NaN   \n",
       "1    1884-08-04  1941-03-18                       NaN   \n",
       "2    1881-06-29  1939-04-24                       NaN   \n",
       "3    1879-06-05  1907-01-25                       NaN   \n",
       "4    1882-10-18  1917-12-20      Lucien Georges Mazan   \n",
       "..          ...         ...                       ...   \n",
       "101  1985-05-20         NaN  Christopher Clive Froome   \n",
       "102  1985-05-20         NaN  Christopher Clive Froome   \n",
       "103  1985-05-20         NaN  Christopher Clive Froome   \n",
       "104  1986-05-25         NaN     Geraint Howell Thomas   \n",
       "105  1997-01-13         NaN   Egan Arley Bernal Gómez   \n",
       "\n",
       "                     nickname       birth_town birth_country     nationality  \n",
       "0    The Little Chimney-sweep           Arvier         Italy          France  \n",
       "1       Le rigolo (The joker)          Desvres        France          France  \n",
       "2         Levaloy / Trou-trou            Paris        France          France  \n",
       "3                         NaN  Moret-sur-Loing        France          France  \n",
       "4         Lucien Petit-Breton           Plessé        France          France  \n",
       "..                        ...              ...           ...             ...  \n",
       "101                   Froomey          Nairobi         Kenya   Great Britain  \n",
       "102                   Froomey          Nairobi         Kenya   Great Britain  \n",
       "103                   Froomey          Nairobi         Kenya   Great Britain  \n",
       "104                         G          Cardiff         Wales   Great Britain  \n",
       "105                       NaN           Bogotá      Columbia        Colombia  \n",
       "\n",
       "[106 rows x 19 columns]"
      ]
     },
     "execution_count": 2,
     "metadata": {},
     "output_type": "execute_result"
    }
   ],
   "source": [
    "TdF= pd.read_csv('https://raw.githubusercontent.com/rfordatascience/tidytuesday/master/data/2020/2020-04-07/tdf_winners.csv')\n",
    "TdF"
   ]
  },
  {
   "cell_type": "markdown",
   "metadata": {},
   "source": [
    "Convert the time columns from strings to timedeltas"
   ]
  },
  {
   "cell_type": "code",
   "execution_count": 4,
   "metadata": {},
   "outputs": [
    {
     "name": "stderr",
     "output_type": "stream",
     "text": [
      "C:\\Users\\JANUARIUS\\AppData\\Roaming\\Python\\Python311\\site-packages\\pandas\\core\\arrays\\timedeltas.py:908: RuntimeWarning: invalid value encountered in cast\n",
      "  base = data.astype(np.int64)\n",
      "C:\\Users\\JANUARIUS\\AppData\\Roaming\\Python\\Python311\\site-packages\\pandas\\core\\arrays\\timedeltas.py:912: RuntimeWarning: invalid value encountered in cast\n",
      "  data = (base * m + (frac * m).astype(np.int64)).view(\"timedelta64[ns]\")\n"
     ]
    }
   ],
   "source": [
    "TdF['time_overall'] = pd.to_timedelta(TdF['time_overall'])\n",
    "TdF['time_margin'] = pd.to_timedelta(TdF['time_margin'])"
   ]
  },
  {
   "cell_type": "markdown",
   "metadata": {},
   "source": [
    "Calculate the time difference between the winner and runner-up & print some summary stats"
   ]
  },
  {
   "cell_type": "code",
   "execution_count": 6,
   "metadata": {},
   "outputs": [
    {
     "name": "stdout",
     "output_type": "stream",
     "text": [
      "Mean winning time: 0 days 00:00:00.000000125\n",
      "Median winning time: 0 days 00:00:00.000000114\n",
      "Mean time difference: 0 days 00:00:00\n",
      "Median time difference: 0 days 00:00:00\n"
     ]
    }
   ],
   "source": [
    "TdF['time_difference'] = TdF['time_margin']\n",
    "\n",
    "print('Mean winning time:', TdF['time_overall'].mean())\n",
    "print('Median winning time:', TdF['time_overall'].median())\n",
    "print('Mean time difference:', TdF['time_difference'].mean())\n",
    "print('Median time difference:', TdF['time_difference'].median())"
   ]
  },
  {
   "cell_type": "markdown",
   "metadata": {},
   "source": [
    "To create a boxplot"
   ]
  },
  {
   "cell_type": "code",
   "execution_count": 12,
   "metadata": {},
   "outputs": [
    {
     "data": {
      "text/plain": [
       "<Axes: title={'center': 'time_overall_sec'}, xlabel='stages_led'>"
      ]
     },
     "execution_count": 12,
     "metadata": {},
     "output_type": "execute_result"
    },
    {
     "data": {
      "image/png": "[encoded data removed]",
      "text/plain": [
       "<Figure size 800x600 with 1 Axes>"
      ]
     },
     "metadata": {},
     "output_type": "display_data"
    }
   ],
   "source": [
    "TdF['time_overall_sec'] = TdF['time_overall'].dt.total_seconds()\n",
    "fig, ax = plt.subplots(figsize=(8, 6))\n",
    "TdF.boxplot(column='time_overall_sec', by='stages_led', ax=ax)"
   ]
  },
  {
   "cell_type": "markdown",
   "metadata": {},
   "source": [
    "What relationship is there between a winners age and the number of stages led ?"
   ]
  },
  {
   "cell_type": "code",
   "execution_count": 13,
   "metadata": {},
   "outputs": [
    {
     "data": {
      "image/png": "[encoded data removed]",
      "text/plain": [
       "<Figure size 800x600 with 1 Axes>"
      ]
     },
     "metadata": {},
     "output_type": "display_data"
    }
   ],
   "source": [
    "# Create a scatter plot of age vs. stages led\n",
    "fig, ax = plt.subplots(figsize=(8, 6))\n",
    "ax.scatter(TdF['age'], TdF['stages_led'])\n",
    "\n",
    "# Add some labels and a title\n",
    "ax.set_xlabel('Age')\n",
    "ax.set_ylabel('Number of Stages Led')\n",
    "ax.set_title('Age vs. Number of Stages Led')\n",
    "\n",
    "# Show the plot\n",
    "plt.show()"
   ]
  },
  {
   "attachments": {},
   "cell_type": "markdown",
   "metadata": {},
   "source": [
    "The above code  produces a scatter plot of age vs. stages led, which can be used to explore whether there is any relationship between a winner's age and the number of stages led. From the plot, we can see that there doesn't appear to be a strong relationship between the two variables. There are winners of all ages who have led varying numbers of stages, suggesting that age is not a strong predictor of success in leading stages."
   ]
  },
  {
   "attachments": {},
   "cell_type": "markdown",
   "metadata": {},
   "source": [
    "Sort the data by the year of the winning in descending order"
   ]
  },
  {
   "cell_type": "code",
   "execution_count": 15,
   "metadata": {},
   "outputs": [
    {
     "ename": "KeyError",
     "evalue": "\"['winner_nationality'] not in index\"",
     "output_type": "error",
     "traceback": [
      "\u001b[1;31m---------------------------------------------------------------------------\u001b[0m",
      "\u001b[1;31mKeyError\u001b[0m                                  Traceback (most recent call last)",
      "Cell \u001b[1;32mIn[15], line 2\u001b[0m\n\u001b[0;32m      1\u001b[0m TdF_sorted \u001b[39m=\u001b[39m TdF\u001b[39m.\u001b[39msort_values(\u001b[39m'\u001b[39m\u001b[39medition\u001b[39m\u001b[39m'\u001b[39m, ascending\u001b[39m=\u001b[39m\u001b[39mFalse\u001b[39;00m)\n\u001b[1;32m----> 2\u001b[0m TdF_sorted[[\u001b[39m'\u001b[39;49m\u001b[39mwinner_name\u001b[39;49m\u001b[39m'\u001b[39;49m, \u001b[39m'\u001b[39;49m\u001b[39mwinner_team\u001b[39;49m\u001b[39m'\u001b[39;49m, \u001b[39m'\u001b[39;49m\u001b[39mwinner_nationality\u001b[39;49m\u001b[39m'\u001b[39;49m]]\u001b[39m.\u001b[39mhead()\n",
      "File \u001b[1;32m~\\AppData\\Roaming\\Python\\Python311\\site-packages\\pandas\\core\\frame.py:3813\u001b[0m, in \u001b[0;36mDataFrame.__getitem__\u001b[1;34m(self, key)\u001b[0m\n\u001b[0;32m   3811\u001b[0m     \u001b[39mif\u001b[39;00m is_iterator(key):\n\u001b[0;32m   3812\u001b[0m         key \u001b[39m=\u001b[39m \u001b[39mlist\u001b[39m(key)\n\u001b[1;32m-> 3813\u001b[0m     indexer \u001b[39m=\u001b[39m \u001b[39mself\u001b[39;49m\u001b[39m.\u001b[39;49mcolumns\u001b[39m.\u001b[39;49m_get_indexer_strict(key, \u001b[39m\"\u001b[39;49m\u001b[39mcolumns\u001b[39;49m\u001b[39m\"\u001b[39;49m)[\u001b[39m1\u001b[39m]\n\u001b[0;32m   3815\u001b[0m \u001b[39m# take() does not accept boolean indexers\u001b[39;00m\n\u001b[0;32m   3816\u001b[0m \u001b[39mif\u001b[39;00m \u001b[39mgetattr\u001b[39m(indexer, \u001b[39m\"\u001b[39m\u001b[39mdtype\u001b[39m\u001b[39m\"\u001b[39m, \u001b[39mNone\u001b[39;00m) \u001b[39m==\u001b[39m \u001b[39mbool\u001b[39m:\n",
      "File \u001b[1;32m~\\AppData\\Roaming\\Python\\Python311\\site-packages\\pandas\\core\\indexes\\base.py:6070\u001b[0m, in \u001b[0;36mIndex._get_indexer_strict\u001b[1;34m(self, key, axis_name)\u001b[0m\n\u001b[0;32m   6067\u001b[0m \u001b[39melse\u001b[39;00m:\n\u001b[0;32m   6068\u001b[0m     keyarr, indexer, new_indexer \u001b[39m=\u001b[39m \u001b[39mself\u001b[39m\u001b[39m.\u001b[39m_reindex_non_unique(keyarr)\n\u001b[1;32m-> 6070\u001b[0m \u001b[39mself\u001b[39;49m\u001b[39m.\u001b[39;49m_raise_if_missing(keyarr, indexer, axis_name)\n\u001b[0;32m   6072\u001b[0m keyarr \u001b[39m=\u001b[39m \u001b[39mself\u001b[39m\u001b[39m.\u001b[39mtake(indexer)\n\u001b[0;32m   6073\u001b[0m \u001b[39mif\u001b[39;00m \u001b[39misinstance\u001b[39m(key, Index):\n\u001b[0;32m   6074\u001b[0m     \u001b[39m# GH 42790 - Preserve name from an Index\u001b[39;00m\n",
      "File \u001b[1;32m~\\AppData\\Roaming\\Python\\Python311\\site-packages\\pandas\\core\\indexes\\base.py:6133\u001b[0m, in \u001b[0;36mIndex._raise_if_missing\u001b[1;34m(self, key, indexer, axis_name)\u001b[0m\n\u001b[0;32m   6130\u001b[0m     \u001b[39mraise\u001b[39;00m \u001b[39mKeyError\u001b[39;00m(\u001b[39mf\u001b[39m\u001b[39m\"\u001b[39m\u001b[39mNone of [\u001b[39m\u001b[39m{\u001b[39;00mkey\u001b[39m}\u001b[39;00m\u001b[39m] are in the [\u001b[39m\u001b[39m{\u001b[39;00maxis_name\u001b[39m}\u001b[39;00m\u001b[39m]\u001b[39m\u001b[39m\"\u001b[39m)\n\u001b[0;32m   6132\u001b[0m not_found \u001b[39m=\u001b[39m \u001b[39mlist\u001b[39m(ensure_index(key)[missing_mask\u001b[39m.\u001b[39mnonzero()[\u001b[39m0\u001b[39m]]\u001b[39m.\u001b[39munique())\n\u001b[1;32m-> 6133\u001b[0m \u001b[39mraise\u001b[39;00m \u001b[39mKeyError\u001b[39;00m(\u001b[39mf\u001b[39m\u001b[39m\"\u001b[39m\u001b[39m{\u001b[39;00mnot_found\u001b[39m}\u001b[39;00m\u001b[39m not in index\u001b[39m\u001b[39m\"\u001b[39m)\n",
      "\u001b[1;31mKeyError\u001b[0m: \"['winner_nationality'] not in index\""
     ]
    }
   ],
   "source": [
    "TdF_sorted = TdF.sort_values('edition', ascending=False)\n",
    "TdF_sorted[['winner_name', 'winner_team', 'nationality']].head()"
   ]
  }
 ],
 "metadata": {
  "kernelspec": {
   "display_name": "Python 3",
   "language": "python",
   "name": "python3"
  },
  "language_info": {
   "codemirror_mode": {
    "name": "ipython",
    "version": 3
   },
   "file_extension": ".py",
   "mimetype": "text/x-python",
   "name": "python",
   "nbconvert_exporter": "python",
   "pygments_lexer": "ipython3",
   "version": "3.11.1"
  },
  "orig_nbformat": 4
 },
 "nbformat": 4,
 "nbformat_minor": 2
}
